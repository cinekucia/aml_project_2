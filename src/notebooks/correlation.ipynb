{
 "cells": [
  {
   "cell_type": "code",
   "id": "initial_id",
   "metadata": {
    "collapsed": true,
    "ExecuteTime": {
     "end_time": "2024-06-02T14:52:09.028012Z",
     "start_time": "2024-06-02T14:52:06.378744Z"
    }
   },
   "source": [
    "import sys\n",
    "sys.path.append(\"..\")\n",
    "\n",
    "from dataset.utils import get_cached_data"
   ],
   "outputs": [],
   "execution_count": 2
  },
  {
   "metadata": {
    "ExecuteTime": {
     "end_time": "2024-06-02T14:52:09.047038Z",
     "start_time": "2024-06-02T14:52:09.029162Z"
    }
   },
   "cell_type": "code",
   "source": "x, y = get_cached_data(\"../artifacts\")",
   "id": "cac1c6890b1a935d",
   "outputs": [],
   "execution_count": 3
  },
  {
   "metadata": {
    "ExecuteTime": {
     "end_time": "2024-05-29T18:12:22.833060Z",
     "start_time": "2024-05-29T18:12:22.823761Z"
    }
   },
   "cell_type": "code",
   "source": "x.shape",
   "id": "43c29afaaee12e31",
   "outputs": [
    {
     "data": {
      "text/plain": [
       "(5000, 500)"
      ]
     },
     "execution_count": 3,
     "metadata": {},
     "output_type": "execute_result"
    }
   ],
   "execution_count": 3
  },
  {
   "metadata": {
    "ExecuteTime": {
     "end_time": "2024-05-29T18:12:23.439454Z",
     "start_time": "2024-05-29T18:12:23.393810Z"
    }
   },
   "cell_type": "code",
   "source": [
    "import numpy as np\n",
    "\n",
    "corr_matrix = np.corrcoef(x, rowvar=False)"
   ],
   "id": "822c65b36f5cbe66",
   "outputs": [],
   "execution_count": 4
  },
  {
   "metadata": {
    "ExecuteTime": {
     "end_time": "2024-05-29T18:12:23.967763Z",
     "start_time": "2024-05-29T18:12:23.962183Z"
    }
   },
   "cell_type": "code",
   "source": "corr_matrix.shape",
   "id": "f22403fdbc3e2da8",
   "outputs": [
    {
     "data": {
      "text/plain": [
       "(500, 500)"
      ]
     },
     "execution_count": 5,
     "metadata": {},
     "output_type": "execute_result"
    }
   ],
   "execution_count": 5
  },
  {
   "metadata": {
    "ExecuteTime": {
     "end_time": "2024-05-29T18:12:24.511333Z",
     "start_time": "2024-05-29T18:12:24.506347Z"
    }
   },
   "cell_type": "code",
   "source": "corr_matrix",
   "id": "12619d62e8bad52d",
   "outputs": [
    {
     "data": {
      "text/plain": [
       "array([[ 1.00000000e+00,  8.55214083e-01,  7.63481766e-01, ...,\n",
       "         2.90037436e-03, -1.68930235e-02,  6.84343388e-04],\n",
       "       [ 8.55214083e-01,  1.00000000e+00,  7.68779586e-01, ...,\n",
       "        -9.08206626e-03, -1.89422444e-02, -6.22810977e-03],\n",
       "       [ 7.63481766e-01,  7.68779586e-01,  1.00000000e+00, ...,\n",
       "         8.95916482e-05, -1.20801339e-02, -2.45980004e-03],\n",
       "       ...,\n",
       "       [ 2.90037436e-03, -9.08206626e-03,  8.95916482e-05, ...,\n",
       "         1.00000000e+00,  8.46094807e-03, -1.51651868e-02],\n",
       "       [-1.68930235e-02, -1.89422444e-02, -1.20801339e-02, ...,\n",
       "         8.46094807e-03,  1.00000000e+00, -5.98345020e-03],\n",
       "       [ 6.84343388e-04, -6.22810977e-03, -2.45980004e-03, ...,\n",
       "        -1.51651868e-02, -5.98345020e-03,  1.00000000e+00]])"
      ]
     },
     "execution_count": 6,
     "metadata": {},
     "output_type": "execute_result"
    }
   ],
   "execution_count": 6
  },
  {
   "metadata": {
    "ExecuteTime": {
     "end_time": "2024-05-24T08:56:30.446966Z",
     "start_time": "2024-05-24T08:56:30.433878Z"
    }
   },
   "cell_type": "code",
   "source": [
    "threshold = 0.75\n",
    "correlated_pairs = np.where(np.abs(corr_matrix) > threshold)\n",
    "correlated_pairs = [(i, j) for i, j in zip(*correlated_pairs) if i != j and i < j]"
   ],
   "id": "37212c1e3203d6e1",
   "outputs": [],
   "execution_count": 12
  },
  {
   "metadata": {
    "ExecuteTime": {
     "end_time": "2024-05-24T08:57:31.778712Z",
     "start_time": "2024-05-24T08:57:31.774994Z"
    }
   },
   "cell_type": "code",
   "source": [
    "features_to_remove = set()\n",
    "    \n",
    "for _, j in correlated_pairs:\n",
    "    features_to_remove.add(j)\n",
    "    \n",
    "features_to_remove = list(features_to_remove)\n",
    "features_to_remove"
   ],
   "id": "52eb7d559125abb",
   "outputs": [
    {
     "data": {
      "text/plain": [
       "[1, 2, 3, 4, 5, 6, 7, 8, 9]"
      ]
     },
     "execution_count": 14,
     "metadata": {},
     "output_type": "execute_result"
    }
   ],
   "execution_count": 14
  },
  {
   "metadata": {
    "ExecuteTime": {
     "end_time": "2024-05-24T09:09:09.873161Z",
     "start_time": "2024-05-24T09:09:09.858603Z"
    }
   },
   "cell_type": "code",
   "source": "np.mean(x[:, 105]), np.std(x[:, 105])",
   "id": "a43706ff37e690db",
   "outputs": [
    {
     "data": {
      "text/plain": [
       "(-0.0058915863645113715, 1.0010853571630096)"
      ]
     },
     "execution_count": 18,
     "metadata": {},
     "output_type": "execute_result"
    }
   ],
   "execution_count": 18
  },
  {
   "metadata": {
    "ExecuteTime": {
     "end_time": "2024-05-24T13:21:13.102665Z",
     "start_time": "2024-05-24T13:21:01.413519Z"
    }
   },
   "cell_type": "code",
   "source": [
    "from sklearn.ensemble import RandomForestClassifier\n",
    "\n",
    "clf = RandomForestClassifier(n_estimators=100, random_state=42)\n",
    "clf.fit(x[:, [0]+list(range(10, 500))], y)\n",
    "mdi_importances = clf.feature_importances_\n",
    "mdi_importances"
   ],
   "id": "b721b46999e3c8f9",
   "outputs": [
    {
     "data": {
      "text/plain": [
       "array([0.00506913, 0.00157469, 0.0018185 , 0.00184401, 0.00158879,\n",
       "       0.00168844, 0.00194283, 0.00184904, 0.00204971, 0.00228051,\n",
       "       0.00198342, 0.00248235, 0.00190347, 0.00171907, 0.00174795,\n",
       "       0.0020921 , 0.00193895, 0.0015413 , 0.00232409, 0.00231197,\n",
       "       0.00230522, 0.00222736, 0.00161194, 0.00198775, 0.00167709,\n",
       "       0.00231126, 0.00206389, 0.00195549, 0.00185636, 0.00197975,\n",
       "       0.0019509 , 0.0017019 , 0.00158862, 0.00214193, 0.00185287,\n",
       "       0.00158456, 0.0020212 , 0.00205561, 0.00152266, 0.00170023,\n",
       "       0.00153007, 0.00182809, 0.00179336, 0.00215265, 0.00189566,\n",
       "       0.00202465, 0.00158059, 0.0019781 , 0.00190876, 0.00219727,\n",
       "       0.00229036, 0.00196001, 0.00157776, 0.00189816, 0.00189121,\n",
       "       0.00220183, 0.00209292, 0.00190208, 0.00178113, 0.0020771 ,\n",
       "       0.00163383, 0.00242599, 0.00218662, 0.00253494, 0.00168952,\n",
       "       0.00205786, 0.00217326, 0.00178232, 0.00194642, 0.00217256,\n",
       "       0.00170358, 0.00219307, 0.00183809, 0.00154031, 0.00200197,\n",
       "       0.00170397, 0.00175996, 0.00198977, 0.00170007, 0.00238418,\n",
       "       0.00196824, 0.00163737, 0.00167847, 0.00162836, 0.00185709,\n",
       "       0.00220286, 0.00214283, 0.00169591, 0.00197821, 0.00207295,\n",
       "       0.00220037, 0.00936326, 0.00780033, 0.0099772 , 0.00860197,\n",
       "       0.00691001, 0.01053588, 0.00180015, 0.00213893, 0.00185024,\n",
       "       0.00177379, 0.00170061, 0.0018562 , 0.00215715, 0.00220643,\n",
       "       0.00152725, 0.00220669, 0.00174091, 0.00193594, 0.00238317,\n",
       "       0.00202222, 0.00154938, 0.00238892, 0.00206592, 0.00183528,\n",
       "       0.00155383, 0.0016092 , 0.00195506, 0.00178098, 0.00170415,\n",
       "       0.00256944, 0.00206009, 0.00210803, 0.00204108, 0.00191672,\n",
       "       0.00148752, 0.00167302, 0.0017955 , 0.00168528, 0.00203066,\n",
       "       0.00215515, 0.00168537, 0.00175191, 0.00233119, 0.00219181,\n",
       "       0.00256313, 0.00147352, 0.0021019 , 0.00194559, 0.00201267,\n",
       "       0.00174154, 0.00184402, 0.00215951, 0.00203528, 0.00156426,\n",
       "       0.00169689, 0.00201077, 0.00205268, 0.00191835, 0.00206598,\n",
       "       0.00207872, 0.00201484, 0.00207119, 0.00213791, 0.00189828,\n",
       "       0.00205218, 0.00196928, 0.00180019, 0.00194544, 0.00194043,\n",
       "       0.0019687 , 0.00183229, 0.00228796, 0.00171613, 0.00188006,\n",
       "       0.00199215, 0.00212712, 0.00161211, 0.00181752, 0.00210062,\n",
       "       0.00200526, 0.00184842, 0.00163869, 0.0019728 , 0.00202002,\n",
       "       0.00219188, 0.0018635 , 0.0019758 , 0.0017129 , 0.00173954,\n",
       "       0.00185578, 0.00210759, 0.00192044, 0.00178632, 0.0020384 ,\n",
       "       0.00173711, 0.00185882, 0.00212798, 0.00165634, 0.00188908,\n",
       "       0.00202026, 0.00237585, 0.00193898, 0.00235458, 0.00209915,\n",
       "       0.00190492, 0.00174852, 0.00170947, 0.00225418, 0.00215693,\n",
       "       0.00209807, 0.00194249, 0.00216209, 0.00251306, 0.00230258,\n",
       "       0.00201243, 0.00206521, 0.00172047, 0.00194772, 0.00211326,\n",
       "       0.00204543, 0.0019617 , 0.00210139, 0.00202021, 0.00178454,\n",
       "       0.00176551, 0.00211193, 0.00222498, 0.00212139, 0.00204858,\n",
       "       0.00161342, 0.00190884, 0.00136348, 0.00198214, 0.00149595,\n",
       "       0.00198798, 0.00230085, 0.00170773, 0.00223916, 0.00178885,\n",
       "       0.00201439, 0.00166425, 0.00178716, 0.00146795, 0.00148173,\n",
       "       0.00141449, 0.00188926, 0.00224085, 0.00210829, 0.00188821,\n",
       "       0.0021839 , 0.00185784, 0.00193708, 0.00227367, 0.00225777,\n",
       "       0.0019672 , 0.00177085, 0.00203807, 0.00171815, 0.00206066,\n",
       "       0.001966  , 0.0020128 , 0.00185634, 0.00186161, 0.00179953,\n",
       "       0.00173634, 0.00183658, 0.00245897, 0.001854  , 0.00211644,\n",
       "       0.00184419, 0.00220044, 0.00178313, 0.00184718, 0.00197232,\n",
       "       0.00198158, 0.00173973, 0.00217967, 0.00224366, 0.00191463,\n",
       "       0.00180006, 0.00200209, 0.00190869, 0.00195813, 0.00218473,\n",
       "       0.00235457, 0.00219485, 0.00172425, 0.00181823, 0.00221869,\n",
       "       0.00189377, 0.00185818, 0.00201965, 0.00183926, 0.00189182,\n",
       "       0.00202291, 0.00208859, 0.00208893, 0.0017525 , 0.00199634,\n",
       "       0.00145111, 0.00194794, 0.00197023, 0.00229904, 0.00231315,\n",
       "       0.00178133, 0.00196259, 0.00214983, 0.00228888, 0.00168263,\n",
       "       0.00151289, 0.00197516, 0.00201684, 0.00189478, 0.00191295,\n",
       "       0.00228881, 0.0015736 , 0.002289  , 0.00199867, 0.00190179,\n",
       "       0.00258967, 0.00200753, 0.00228687, 0.00204379, 0.00248636,\n",
       "       0.00217631, 0.00165614, 0.00174788, 0.0020544 , 0.00251971,\n",
       "       0.00236201, 0.00204837, 0.00215497, 0.00202265, 0.00177361,\n",
       "       0.00183266, 0.00210795, 0.00202631, 0.00207585, 0.00190303,\n",
       "       0.00182703, 0.00183657, 0.00184833, 0.00167877, 0.00205567,\n",
       "       0.00207306, 0.00210367, 0.00220255, 0.00179317, 0.0017803 ,\n",
       "       0.00157652, 0.00171426, 0.00200037, 0.0017842 , 0.00201148,\n",
       "       0.00197054, 0.00249373, 0.00153111, 0.00212394, 0.00189149,\n",
       "       0.00186432, 0.00246991, 0.0019946 , 0.00225355, 0.00230943,\n",
       "       0.00167497, 0.00150657, 0.00195108, 0.00171167, 0.0019444 ,\n",
       "       0.00189808, 0.00197378, 0.00216822, 0.00167291, 0.00211208,\n",
       "       0.00176187, 0.00176831, 0.00203083, 0.00174162, 0.00151091,\n",
       "       0.00178011, 0.00188952, 0.00192518, 0.00193543, 0.00150974,\n",
       "       0.0019945 , 0.00177959, 0.00203087, 0.00183703, 0.00186604,\n",
       "       0.00222766, 0.001601  , 0.00192485, 0.00155422, 0.0019213 ,\n",
       "       0.00221357, 0.00207318, 0.00166994, 0.00179766, 0.00217857,\n",
       "       0.00172466, 0.00213943, 0.00191775, 0.00175642, 0.00230397,\n",
       "       0.0019224 , 0.00197902, 0.00205896, 0.00173985, 0.00180763,\n",
       "       0.00209249, 0.0017979 , 0.00170541, 0.00226173, 0.00162632,\n",
       "       0.00180464, 0.00190644, 0.00209526, 0.0015351 , 0.00138413,\n",
       "       0.00156783, 0.00245649, 0.00146093, 0.00221306, 0.00204065,\n",
       "       0.00240968, 0.0019386 , 0.00203169, 0.00202745, 0.00213201,\n",
       "       0.0018427 , 0.00183407, 0.00200914, 0.00204556, 0.00170627,\n",
       "       0.00156855, 0.0020302 , 0.00192232, 0.00185415, 0.00200157,\n",
       "       0.00189653, 0.00172918, 0.00164541, 0.00209943, 0.00207529,\n",
       "       0.0016302 , 0.00171696, 0.00179148, 0.00233541, 0.002288  ,\n",
       "       0.0020113 , 0.00208274, 0.00205951, 0.00185061, 0.00175877,\n",
       "       0.0020394 , 0.00200921, 0.00156611, 0.00179089, 0.00220903,\n",
       "       0.00220174, 0.00210401, 0.00173253, 0.00228242, 0.00204326,\n",
       "       0.00221666, 0.00190014, 0.00197408, 0.00208386, 0.00175936,\n",
       "       0.00178204, 0.00171066, 0.00228861, 0.00204956, 0.00147592,\n",
       "       0.00186532, 0.00193215, 0.00160168, 0.00197539, 0.00195559,\n",
       "       0.00206152, 0.00200282, 0.00213793, 0.00191093, 0.00195507,\n",
       "       0.00205354, 0.00177676, 0.00183974, 0.00196985, 0.00229328,\n",
       "       0.00167913, 0.00191619, 0.00215609, 0.00199353, 0.00176401,\n",
       "       0.00180205, 0.0020087 , 0.0017407 , 0.00216449, 0.0026036 ,\n",
       "       0.00204742])"
      ]
     },
     "execution_count": 10,
     "metadata": {},
     "output_type": "execute_result"
    }
   ],
   "execution_count": 10
  },
  {
   "metadata": {
    "ExecuteTime": {
     "end_time": "2024-05-29T18:19:31.229194Z",
     "start_time": "2024-05-29T18:19:31.210103Z"
    }
   },
   "cell_type": "code",
   "source": [
    "features = np.argsort(mdi_importances)[::-1]+9\n",
    "features"
   ],
   "id": "80765b1d65eeec30",
   "outputs": [
    {
     "ename": "NameError",
     "evalue": "name 'mdi_importances' is not defined",
     "output_type": "error",
     "traceback": [
      "\u001B[0;31m---------------------------------------------------------------------------\u001B[0m",
      "\u001B[0;31mNameError\u001B[0m                                 Traceback (most recent call last)",
      "Cell \u001B[0;32mIn[9], line 1\u001B[0m\n\u001B[0;32m----> 1\u001B[0m features \u001B[38;5;241m=\u001B[39m np\u001B[38;5;241m.\u001B[39margsort(\u001B[43mmdi_importances\u001B[49m)[::\u001B[38;5;241m-\u001B[39m\u001B[38;5;241m1\u001B[39m]\u001B[38;5;241m+\u001B[39m\u001B[38;5;241m9\u001B[39m\n\u001B[1;32m      2\u001B[0m features\n",
      "\u001B[0;31mNameError\u001B[0m: name 'mdi_importances' is not defined"
     ]
    }
   ],
   "execution_count": 9
  },
  {
   "metadata": {
    "ExecuteTime": {
     "end_time": "2024-05-24T11:40:39.794301Z",
     "start_time": "2024-05-24T11:40:39.786451Z"
    }
   },
   "cell_type": "code",
   "source": [
    "for i in range(10):\n",
    "    print(\"Feature\", features[i], \"importance:\", mdi_importances[features[i]-9])"
   ],
   "id": "d58f532c84243d8a",
   "outputs": [
    {
     "name": "stdout",
     "output_type": "stream",
     "text": [
      "Feature 105 importance: 0.010535882733552297\n",
      "Feature 102 importance: 0.009977198456265985\n",
      "Feature 100 importance: 0.009363263769753792\n",
      "Feature 103 importance: 0.008601968702856053\n",
      "Feature 101 importance: 0.007800331860220733\n",
      "Feature 104 importance: 0.006910008114602371\n",
      "Feature 9 importance: 0.00506912634110211\n",
      "Feature 498 importance: 0.00260359609400318\n",
      "Feature 319 importance: 0.0025896686108965567\n",
      "Feature 129 importance: 0.0025694432828333373\n"
     ]
    }
   ],
   "execution_count": 27
  },
  {
   "metadata": {
    "ExecuteTime": {
     "end_time": "2024-05-29T18:19:42.423033Z",
     "start_time": "2024-05-29T18:19:42.419351Z"
    }
   },
   "cell_type": "code",
   "source": [
    "from itertools import combinations\n",
    "\n",
    "list(combinations([1, 2, 3], 2))"
   ],
   "id": "3781590cb5209b88",
   "outputs": [
    {
     "data": {
      "text/plain": [
       "[(1, 2), (1, 3), (2, 3)]"
      ]
     },
     "execution_count": 12,
     "metadata": {},
     "output_type": "execute_result"
    }
   ],
   "execution_count": 12
  },
  {
   "metadata": {
    "ExecuteTime": {
     "end_time": "2024-05-29T18:19:37.437596Z",
     "start_time": "2024-05-29T18:19:37.382265Z"
    }
   },
   "cell_type": "code",
   "source": [
    "from metrics import calculate_gain\n",
    "from sklearn.model_selection import train_test_split\n",
    "from sklearn.preprocessing import PolynomialFeatures\n",
    "from sklearn.discriminant_analysis import QuadraticDiscriminantAnalysis, LinearDiscriminantAnalysis\n",
    "from sklearn.svm import SVC\n",
    "\n",
    "def evaluate_models(x_train, x_test, y_train, y_test, selected_features):\n",
    "    gains = []\n",
    "    clf = RandomForestClassifier(n_estimators=100, random_state=42)\n",
    "    clf.fit(x_train, y_train)\n",
    "    predictions = clf.predict(x_test)\n",
    "    gains.append(calculate_gain(y_test, predictions, len(selected_features)))\n",
    "    #print(\"Random forest:\", calculate_gain(y_test, predictions, len(selected_features)))\n",
    "    \n",
    "    qda = QuadraticDiscriminantAnalysis()\n",
    "    qda.fit(x_train, y_train)\n",
    "    predictions = qda.predict_proba(x_test)[:, 1]\n",
    "    gains.append(calculate_gain(y_test, predictions, len(selected_features)))\n",
    "    #print(\"QDA:\", calculate_gain(y_test, predictions, len(selected_features)))\n",
    "    \n",
    "    poly = PolynomialFeatures(degree=2, interaction_only=False, include_bias=False)\n",
    "    x_train_poly = poly.fit_transform(x_train)\n",
    "    x_test_poly = poly.transform(x_test)\n",
    "    \n",
    "    qda = QuadraticDiscriminantAnalysis()\n",
    "    qda.fit(x_train_poly, y_train)\n",
    "    predictions = qda.predict_proba(x_test_poly)[:, 1]\n",
    "    gains.append(calculate_gain(y_test, predictions, len(selected_features)))\n",
    "    #print(\"QDA Poly:\", calculate_gain(y_test, predictions, len(selected_features)))\n",
    "    \n",
    "    lda = LinearDiscriminantAnalysis()\n",
    "    lda.fit(x_train, y_train)\n",
    "    predictions = lda.predict_proba(x_test)[:, 1]\n",
    "    gains.append(calculate_gain(y_test, predictions, len(selected_features)))\n",
    "    #print(\"LDA:\", calculate_gain(y_test, predictions, len(selected_features)))\n",
    "    \n",
    "    svm = SVC(probability=True)\n",
    "    svm.fit(x_train, y_train)\n",
    "    predictions = svm.predict_proba(x_test)[:, 1]\n",
    "    gains.append(calculate_gain(y_test, predictions, len(selected_features)))\n",
    "    #print(\"SVM:\", calculate_gain(y_test, predictions, len(selected_features)))\n",
    "    \n",
    "    return gains"
   ],
   "id": "c23a4cd4d73a43be",
   "outputs": [],
   "execution_count": 10
  },
  {
   "metadata": {
    "ExecuteTime": {
     "end_time": "2024-05-29T18:19:54.446995Z",
     "start_time": "2024-05-29T18:19:54.376157Z"
    }
   },
   "cell_type": "code",
   "source": [
    "from tqdm import tqdm\n",
    "selected_features = [0, 100, 101, 102, 103, 104, 105]\n",
    "comb = list(combinations(selected_features, 1)) + list(combinations(selected_features, 2)) + list(combinations(selected_features, 3)) + list(combinations(selected_features, 4)) + list(combinations(selected_features, 5))\n",
    "x_train, x_test, y_train, y_test = train_test_split(x, y, test_size=0.2, random_state=42)\n",
    "data = []\n",
    "for i in tqdm(comb):\n",
    "    x_train_selected = x_train[:, i]\n",
    "    x_test_selected = x_test[:, i]\n",
    "    data.append(evaluate_models(x_train_selected, x_test_selected, y_train, y_test, i))"
   ],
   "id": "c98fda8f317a14ca",
   "outputs": [
    {
     "name": "stderr",
     "output_type": "stream",
     "text": [
      "  0%|          | 0/119 [00:00<?, ?it/s]\n"
     ]
    },
    {
     "ename": "NameError",
     "evalue": "name 'RandomForestClassifier' is not defined",
     "output_type": "error",
     "traceback": [
      "\u001B[0;31m---------------------------------------------------------------------------\u001B[0m",
      "\u001B[0;31mNameError\u001B[0m                                 Traceback (most recent call last)",
      "Cell \u001B[0;32mIn[14], line 9\u001B[0m\n\u001B[1;32m      7\u001B[0m x_train_selected \u001B[38;5;241m=\u001B[39m x_train[:, i]\n\u001B[1;32m      8\u001B[0m x_test_selected \u001B[38;5;241m=\u001B[39m x_test[:, i]\n\u001B[0;32m----> 9\u001B[0m data\u001B[38;5;241m.\u001B[39mappend(\u001B[43mevaluate_models\u001B[49m\u001B[43m(\u001B[49m\u001B[43mx_train_selected\u001B[49m\u001B[43m,\u001B[49m\u001B[43m \u001B[49m\u001B[43mx_test_selected\u001B[49m\u001B[43m,\u001B[49m\u001B[43m \u001B[49m\u001B[43my_train\u001B[49m\u001B[43m,\u001B[49m\u001B[43m \u001B[49m\u001B[43my_test\u001B[49m\u001B[43m,\u001B[49m\u001B[43m \u001B[49m\u001B[43mi\u001B[49m\u001B[43m)\u001B[49m)\n",
      "Cell \u001B[0;32mIn[10], line 9\u001B[0m, in \u001B[0;36mevaluate_models\u001B[0;34m(x_train, x_test, y_train, y_test, selected_features)\u001B[0m\n\u001B[1;32m      7\u001B[0m \u001B[38;5;28;01mdef\u001B[39;00m \u001B[38;5;21mevaluate_models\u001B[39m(x_train, x_test, y_train, y_test, selected_features):\n\u001B[1;32m      8\u001B[0m     gains \u001B[38;5;241m=\u001B[39m []\n\u001B[0;32m----> 9\u001B[0m     clf \u001B[38;5;241m=\u001B[39m \u001B[43mRandomForestClassifier\u001B[49m(n_estimators\u001B[38;5;241m=\u001B[39m\u001B[38;5;241m100\u001B[39m, random_state\u001B[38;5;241m=\u001B[39m\u001B[38;5;241m42\u001B[39m)\n\u001B[1;32m     10\u001B[0m     clf\u001B[38;5;241m.\u001B[39mfit(x_train, y_train)\n\u001B[1;32m     11\u001B[0m     predictions \u001B[38;5;241m=\u001B[39m clf\u001B[38;5;241m.\u001B[39mpredict(x_test)\n",
      "\u001B[0;31mNameError\u001B[0m: name 'RandomForestClassifier' is not defined"
     ]
    }
   ],
   "execution_count": 14
  },
  {
   "metadata": {
    "ExecuteTime": {
     "end_time": "2024-05-24T13:27:12.916473Z",
     "start_time": "2024-05-24T13:27:12.911972Z"
    }
   },
   "cell_type": "code",
   "source": "data = np.array(data)",
   "id": "1abb6218a66f7c83",
   "outputs": [],
   "execution_count": 14
  },
  {
   "metadata": {
    "ExecuteTime": {
     "end_time": "2024-05-24T13:27:15.670106Z",
     "start_time": "2024-05-24T13:27:15.664033Z"
    }
   },
   "cell_type": "code",
   "source": "np.unravel_index(data.argmax(), data.shape)",
   "id": "6c1475b1a8124c2f",
   "outputs": [
    {
     "data": {
      "text/plain": [
       "(39, 4)"
      ]
     },
     "execution_count": 15,
     "metadata": {},
     "output_type": "execute_result"
    }
   ],
   "execution_count": 15
  },
  {
   "metadata": {
    "ExecuteTime": {
     "end_time": "2024-05-24T13:27:24.220835Z",
     "start_time": "2024-05-24T13:27:24.204451Z"
    }
   },
   "cell_type": "code",
   "source": "comb[39], data[39, 4]",
   "id": "e0655ef6e1a70d42",
   "outputs": [
    {
     "data": {
      "text/plain": [
       "((0, 102, 105), 7450.000000000001)"
      ]
     },
     "execution_count": 16,
     "metadata": {},
     "output_type": "execute_result"
    }
   ],
   "execution_count": 16
  },
  {
   "metadata": {
    "ExecuteTime": {
     "end_time": "2024-05-24T13:27:35.714399Z",
     "start_time": "2024-05-24T13:27:35.487874Z"
    }
   },
   "cell_type": "code",
   "source": [
    "import pandas as pd\n",
    "\n",
    "df = pd.DataFrame(data, columns=[\"Random Forest\", \"QDA\", \"QDA Poly\", \"LDA\", \"SVM\"])\n",
    "df.set_index(pd.Series(comb), inplace=True)\n",
    "df"
   ],
   "id": "83bece26db1698dc",
   "outputs": [
    {
     "data": {
      "text/plain": [
       "                           Random Forest     QDA  QDA Poly     LDA     SVM\n",
       "(0,)                              5000.0  6150.0    6150.0  5400.0  6250.0\n",
       "(100,)                            4850.0  7050.0    7050.0  5900.0  7050.0\n",
       "(101,)                            4900.0  6400.0    6450.0  5600.0  6350.0\n",
       "(102,)                            4750.0  6300.0    6300.0  5500.0  6300.0\n",
       "(103,)                            4900.0  6000.0    6050.0  5450.0  5800.0\n",
       "...                                  ...     ...       ...     ...     ...\n",
       "(100, 101, 102, 103, 105)         6050.0  7050.0    7100.0  5050.0  7200.0\n",
       "(100, 101, 102, 104, 105)         5450.0  6950.0    6800.0  5450.0  6750.0\n",
       "(100, 101, 103, 104, 105)         5650.0  6950.0    6750.0  5150.0  6700.0\n",
       "(100, 102, 103, 104, 105)         5400.0  6850.0    6700.0  5100.0  7000.0\n",
       "(101, 102, 103, 104, 105)         5000.0  7250.0    7100.0  5200.0  6900.0\n",
       "\n",
       "[119 rows x 5 columns]"
      ],
      "text/html": [
       "<div>\n",
       "<style scoped>\n",
       "    .dataframe tbody tr th:only-of-type {\n",
       "        vertical-align: middle;\n",
       "    }\n",
       "\n",
       "    .dataframe tbody tr th {\n",
       "        vertical-align: top;\n",
       "    }\n",
       "\n",
       "    .dataframe thead th {\n",
       "        text-align: right;\n",
       "    }\n",
       "</style>\n",
       "<table border=\"1\" class=\"dataframe\">\n",
       "  <thead>\n",
       "    <tr style=\"text-align: right;\">\n",
       "      <th></th>\n",
       "      <th>Random Forest</th>\n",
       "      <th>QDA</th>\n",
       "      <th>QDA Poly</th>\n",
       "      <th>LDA</th>\n",
       "      <th>SVM</th>\n",
       "    </tr>\n",
       "  </thead>\n",
       "  <tbody>\n",
       "    <tr>\n",
       "      <th>(0,)</th>\n",
       "      <td>5000.0</td>\n",
       "      <td>6150.0</td>\n",
       "      <td>6150.0</td>\n",
       "      <td>5400.0</td>\n",
       "      <td>6250.0</td>\n",
       "    </tr>\n",
       "    <tr>\n",
       "      <th>(100,)</th>\n",
       "      <td>4850.0</td>\n",
       "      <td>7050.0</td>\n",
       "      <td>7050.0</td>\n",
       "      <td>5900.0</td>\n",
       "      <td>7050.0</td>\n",
       "    </tr>\n",
       "    <tr>\n",
       "      <th>(101,)</th>\n",
       "      <td>4900.0</td>\n",
       "      <td>6400.0</td>\n",
       "      <td>6450.0</td>\n",
       "      <td>5600.0</td>\n",
       "      <td>6350.0</td>\n",
       "    </tr>\n",
       "    <tr>\n",
       "      <th>(102,)</th>\n",
       "      <td>4750.0</td>\n",
       "      <td>6300.0</td>\n",
       "      <td>6300.0</td>\n",
       "      <td>5500.0</td>\n",
       "      <td>6300.0</td>\n",
       "    </tr>\n",
       "    <tr>\n",
       "      <th>(103,)</th>\n",
       "      <td>4900.0</td>\n",
       "      <td>6000.0</td>\n",
       "      <td>6050.0</td>\n",
       "      <td>5450.0</td>\n",
       "      <td>5800.0</td>\n",
       "    </tr>\n",
       "    <tr>\n",
       "      <th>...</th>\n",
       "      <td>...</td>\n",
       "      <td>...</td>\n",
       "      <td>...</td>\n",
       "      <td>...</td>\n",
       "      <td>...</td>\n",
       "    </tr>\n",
       "    <tr>\n",
       "      <th>(100, 101, 102, 103, 105)</th>\n",
       "      <td>6050.0</td>\n",
       "      <td>7050.0</td>\n",
       "      <td>7100.0</td>\n",
       "      <td>5050.0</td>\n",
       "      <td>7200.0</td>\n",
       "    </tr>\n",
       "    <tr>\n",
       "      <th>(100, 101, 102, 104, 105)</th>\n",
       "      <td>5450.0</td>\n",
       "      <td>6950.0</td>\n",
       "      <td>6800.0</td>\n",
       "      <td>5450.0</td>\n",
       "      <td>6750.0</td>\n",
       "    </tr>\n",
       "    <tr>\n",
       "      <th>(100, 101, 103, 104, 105)</th>\n",
       "      <td>5650.0</td>\n",
       "      <td>6950.0</td>\n",
       "      <td>6750.0</td>\n",
       "      <td>5150.0</td>\n",
       "      <td>6700.0</td>\n",
       "    </tr>\n",
       "    <tr>\n",
       "      <th>(100, 102, 103, 104, 105)</th>\n",
       "      <td>5400.0</td>\n",
       "      <td>6850.0</td>\n",
       "      <td>6700.0</td>\n",
       "      <td>5100.0</td>\n",
       "      <td>7000.0</td>\n",
       "    </tr>\n",
       "    <tr>\n",
       "      <th>(101, 102, 103, 104, 105)</th>\n",
       "      <td>5000.0</td>\n",
       "      <td>7250.0</td>\n",
       "      <td>7100.0</td>\n",
       "      <td>5200.0</td>\n",
       "      <td>6900.0</td>\n",
       "    </tr>\n",
       "  </tbody>\n",
       "</table>\n",
       "<p>119 rows × 5 columns</p>\n",
       "</div>"
      ]
     },
     "execution_count": 17,
     "metadata": {},
     "output_type": "execute_result"
    }
   ],
   "execution_count": 17
  },
  {
   "metadata": {
    "ExecuteTime": {
     "end_time": "2024-05-29T18:20:03.231542Z",
     "start_time": "2024-05-29T18:20:00.544462Z"
    }
   },
   "cell_type": "code",
   "source": [
    "from xgboost import XGBClassifier\n",
    "\n",
    "i = (102, 103, 105)\n",
    "x_train_selected = x_train[:, i]\n",
    "x_test_selected = x_test[:, i]\n",
    "\n",
    "xgb = XGBClassifier(\n",
    "    objective='binary:logistic', \n",
    "    n_estimators=1000, \n",
    "    learning_rate=0.1, \n",
    "    max_depth=15, \n",
    "    use_label_encoder=False,\n",
    "    eval_metric='logloss'\n",
    ")\n",
    "xgb.fit(x_train_selected, y_train)\n",
    "predictions = xgb.predict_proba(x_test_selected)[:, 1]\n",
    "calculate_gain(y_test, predictions, len(i))"
   ],
   "id": "e8ab6cc0c1bbd289",
   "outputs": [
    {
     "data": {
      "text/plain": [
       "6050.0"
      ]
     },
     "execution_count": 15,
     "metadata": {},
     "output_type": "execute_result"
    }
   ],
   "execution_count": 15
  },
  {
   "metadata": {
    "ExecuteTime": {
     "end_time": "2024-05-24T12:53:36.071891Z",
     "start_time": "2024-05-24T12:53:32.097285Z"
    }
   },
   "cell_type": "code",
   "source": [
    "poly = PolynomialFeatures(degree=2, interaction_only=True, include_bias=False)\n",
    "x_train_poly = poly.fit_transform(x_train_selected)\n",
    "x_test_poly = poly.transform(x_test_selected)\n",
    "\n",
    "xgb.fit(x_train_poly, y_train)\n",
    "predictions = xgb.predict_proba(x_test_poly)[:, 1]\n",
    "calculate_gain(y_test, predictions, len(i))"
   ],
   "id": "2d6c9ee59fa77a0a",
   "outputs": [
    {
     "data": {
      "text/plain": [
       "6400.0"
      ]
     },
     "execution_count": 99,
     "metadata": {},
     "output_type": "execute_result"
    }
   ],
   "execution_count": 99
  },
  {
   "metadata": {
    "ExecuteTime": {
     "end_time": "2024-05-24T13:11:57.162023Z",
     "start_time": "2024-05-24T13:11:55.524132Z"
    }
   },
   "cell_type": "code",
   "source": [
    "svm = SVC(probability=True, kernel=\"linear\")\n",
    "svm.fit(x_train_selected, y_train)\n",
    "predictions = svm.predict_proba(x_test_selected)[:, 1]\n",
    "calculate_gain(y_test, predictions, len(i))"
   ],
   "id": "a65c598b6d5338f4",
   "outputs": [
    {
     "data": {
      "text/plain": [
       "4200.0"
      ]
     },
     "execution_count": 101,
     "metadata": {},
     "output_type": "execute_result"
    }
   ],
   "execution_count": 101
  },
  {
   "metadata": {
    "ExecuteTime": {
     "end_time": "2024-05-24T12:12:30.253296Z",
     "start_time": "2024-05-24T12:12:29.013422Z"
    }
   },
   "cell_type": "code",
   "source": [
    "clf2 = RandomForestClassifier(n_estimators=100, random_state=42)\n",
    "\n",
    "clf2.fit(x_train_selected, y_train)\n",
    "predictions = clf2.predict(x_test_selected)\n",
    "calculate_gain(y_test, predictions, len(selected_features))"
   ],
   "id": "a30c7e34ae2fc78",
   "outputs": [
    {
     "data": {
      "text/plain": [
       "5200.0"
      ]
     },
     "execution_count": 62,
     "metadata": {},
     "output_type": "execute_result"
    }
   ],
   "execution_count": 62
  },
  {
   "metadata": {
    "ExecuteTime": {
     "end_time": "2024-05-24T12:12:32.685099Z",
     "start_time": "2024-05-24T12:12:32.672058Z"
    }
   },
   "cell_type": "code",
   "source": [
    "qda = QuadraticDiscriminantAnalysis()\n",
    "qda.fit(x_train_selected, y_train)\n",
    "predictions = qda.predict_proba(x_test_selected)[:, 1]\n",
    "calculate_gain(y_test, predictions, len(selected_features))"
   ],
   "id": "cdf5eed9f7d07993",
   "outputs": [
    {
     "data": {
      "text/plain": [
       "7150.0"
      ]
     },
     "execution_count": 63,
     "metadata": {},
     "output_type": "execute_result"
    }
   ],
   "execution_count": 63
  },
  {
   "metadata": {
    "ExecuteTime": {
     "end_time": "2024-05-24T12:12:40.245533Z",
     "start_time": "2024-05-24T12:12:40.234417Z"
    }
   },
   "cell_type": "code",
   "source": [
    "poly = PolynomialFeatures(degree=2, interaction_only=False, include_bias=False)\n",
    "x_train_poly = poly.fit_transform(x_train_selected)\n",
    "x_test_poly = poly.transform(x_test_selected)\n",
    "\n",
    "qda = QuadraticDiscriminantAnalysis()\n",
    "qda.fit(x_train_poly, y_train)\n",
    "\n",
    "predictions = qda.predict_proba(x_test_poly)[:, 1]\n",
    "calculate_gain(y_test, predictions, len(selected_features))"
   ],
   "id": "6c6d7100b674ae26",
   "outputs": [
    {
     "data": {
      "text/plain": [
       "7200.0"
      ]
     },
     "execution_count": 64,
     "metadata": {},
     "output_type": "execute_result"
    }
   ],
   "execution_count": 64
  },
  {
   "metadata": {
    "ExecuteTime": {
     "end_time": "2024-05-24T12:15:20.304250Z",
     "start_time": "2024-05-24T12:15:20.292312Z"
    }
   },
   "cell_type": "code",
   "source": [
    "# LDA\n",
    "from sklearn.discriminant_analysis import LinearDiscriminantAnalysis\n",
    "\n",
    "lda = LinearDiscriminantAnalysis()\n",
    "lda.fit(x_train_selected, y_train)\n",
    "predictions = lda.predict_proba(x_test_selected)[:, 1]\n",
    "calculate_gain(y_test, predictions, len(selected_features))"
   ],
   "id": "42edb04ec1696af4",
   "outputs": [
    {
     "data": {
      "text/plain": [
       "5400.0"
      ]
     },
     "execution_count": 66,
     "metadata": {},
     "output_type": "execute_result"
    }
   ],
   "execution_count": 66
  },
  {
   "metadata": {
    "ExecuteTime": {
     "end_time": "2024-05-24T12:16:19.061395Z",
     "start_time": "2024-05-24T12:16:17.067036Z"
    }
   },
   "cell_type": "code",
   "source": [
    "# SVM\n",
    "from sklearn.svm import SVC\n",
    "\n",
    "svm = SVC(probability=True)\n",
    "svm.fit(x_train_selected, y_train)\n",
    "predictions = svm.predict_proba(x_test_selected)[:, 1]\n",
    "calculate_gain(y_test, predictions, len(selected_features))"
   ],
   "id": "58dbc56a41b47a0",
   "outputs": [
    {
     "data": {
      "text/plain": [
       "7000.0"
      ]
     },
     "execution_count": 67,
     "metadata": {},
     "output_type": "execute_result"
    }
   ],
   "execution_count": 67
  },
  {
   "metadata": {
    "ExecuteTime": {
     "end_time": "2024-05-24T14:22:02.362655Z",
     "start_time": "2024-05-24T14:22:02.300050Z"
    }
   },
   "cell_type": "code",
   "source": [
    "import numpy as np\n",
    "import pandas as pd\n",
    "from scipy.interpolate import BSpline\n",
    "from sklearn.linear_model import LogisticRegression\n",
    "from sklearn.preprocessing import SplineTransformer\n",
    "from sklearn.pipeline import make_pipeline\n",
    "from sklearn.model_selection import train_test_split\n",
    "from sklearn.metrics import classification_report\n",
    "\n",
    "i = (102, 103, 105)\n",
    "x_train_selected = x_train[:, i]\n",
    "x_test_selected = x_test[:, i]\n",
    "\n",
    "spline_transformer = SplineTransformer(n_knots=2, degree=3)\n",
    "\n",
    "# Fit and transform the training data\n",
    "X_train_spline = spline_transformer.fit_transform(x_train_selected)\n",
    "X_test_spline = spline_transformer.transform(x_test_selected)\n",
    "model = LinearDiscriminantAnalysis()\n",
    "model.fit(X_train_spline, y_train)\n",
    "predictions = model.predict_proba(X_test_spline)[:, 1]\n",
    "calculate_gain(y_test, predictions, len(i))"
   ],
   "id": "2d5e44c398bc76c0",
   "outputs": [
    {
     "data": {
      "text/plain": [
       "7100.0"
      ]
     },
     "execution_count": 61,
     "metadata": {},
     "output_type": "execute_result"
    }
   ],
   "execution_count": 61
  },
  {
   "metadata": {
    "ExecuteTime": {
     "end_time": "2024-05-29T18:21:13.123779Z",
     "start_time": "2024-05-29T18:21:13.009477Z"
    }
   },
   "cell_type": "code",
   "source": [
    "poly = PolynomialFeatures(degree=3, interaction_only=False, include_bias=False)\n",
    "x_train_poly = poly.fit_transform(x_train_selected)\n",
    "x_test_poly = poly.transform(x_test_selected)\n",
    "\n",
    "qda = LinearDiscriminantAnalysis()\n",
    "qda.fit(x_train_poly, y_train)\n",
    "predictions = qda.predict_proba(x_test_poly)[:, 1]\n",
    "calculate_gain(y_test, predictions, len(i))"
   ],
   "id": "458e6b9dccd6e60c",
   "outputs": [
    {
     "data": {
      "text/plain": [
       "7450.000000000001"
      ]
     },
     "execution_count": 19,
     "metadata": {},
     "output_type": "execute_result"
    }
   ],
   "execution_count": 19
  },
  {
   "metadata": {
    "ExecuteTime": {
     "end_time": "2024-05-29T18:20:55.623070Z",
     "start_time": "2024-05-29T18:20:54.023715Z"
    }
   },
   "cell_type": "code",
   "source": [
    "svm = SVC(probability=True, kernel=\"poly\", degree=2)\n",
    "svm.fit(x_train_selected, y_train)\n",
    "predictions = svm.predict_proba(x_test_selected)[:, 1]\n",
    "calculate_gain(y_test, predictions, len(selected_features))"
   ],
   "id": "1a93d9e3f2583858",
   "outputs": [
    {
     "data": {
      "text/plain": [
       "6700.000000000001"
      ]
     },
     "execution_count": 18,
     "metadata": {},
     "output_type": "execute_result"
    }
   ],
   "execution_count": 18
  },
  {
   "metadata": {
    "ExecuteTime": {
     "end_time": "2024-05-29T18:22:57.638456Z",
     "start_time": "2024-05-29T18:22:57.632937Z"
    }
   },
   "cell_type": "code",
   "source": [
    "# add interactions\n",
    "from sklearn.preprocessing import PolynomialFeatures\n",
    "\n",
    "poly = PolynomialFeatures(degree=2, interaction_only=False, include_bias=False)\n",
    "x_train_poly = poly.fit_transform(x_train_selected)\n",
    "x_test_poly = poly.transform(x_test_selected)\n",
    "x_train_poly.shape"
   ],
   "id": "b9b1029bb239be60",
   "outputs": [
    {
     "data": {
      "text/plain": [
       "(4000, 9)"
      ]
     },
     "execution_count": 21,
     "metadata": {},
     "output_type": "execute_result"
    }
   ],
   "execution_count": 21
  },
  {
   "metadata": {
    "ExecuteTime": {
     "end_time": "2024-05-29T18:28:00.772327Z",
     "start_time": "2024-05-29T18:28:00.762674Z"
    }
   },
   "cell_type": "code",
   "source": [
    "# Naive bayes gaussion\n",
    "from sklearn.naive_bayes import GaussianNB\n",
    "\n",
    "m = GaussianNB()\n",
    "m.fit(x_train_selected, y_train)\n",
    "predictions = m.predict_proba(x_test_selected)[:, 1]\n",
    "calculate_gain(y_test, predictions, len(selected_features))"
   ],
   "id": "70ff89c424d12155",
   "outputs": [
    {
     "data": {
      "text/plain": [
       "6700.000000000001"
      ]
     },
     "execution_count": 22,
     "metadata": {},
     "output_type": "execute_result"
    }
   ],
   "execution_count": 22
  },
  {
   "metadata": {
    "ExecuteTime": {
     "end_time": "2024-05-29T18:29:55.425092Z",
     "start_time": "2024-05-29T18:29:55.414417Z"
    }
   },
   "cell_type": "code",
   "source": [
    "poly = PolynomialFeatures(degree=3, interaction_only=False, include_bias=False)\n",
    "x_train_poly = poly.fit_transform(x_train_selected)\n",
    "x_test_poly = poly.transform(x_test_selected)\n",
    "\n",
    "m.fit(x_train_poly, y_train)\n",
    "predictions = m.predict_proba(x_test_poly)[:, 1]\n",
    "calculate_gain(y_test, predictions, len(selected_features))"
   ],
   "id": "f887f6b91efaeba6",
   "outputs": [
    {
     "data": {
      "text/plain": [
       "6450.0"
      ]
     },
     "execution_count": 23,
     "metadata": {},
     "output_type": "execute_result"
    }
   ],
   "execution_count": 23
  },
  {
   "metadata": {
    "ExecuteTime": {
     "end_time": "2024-06-02T14:52:36.122578Z",
     "start_time": "2024-06-02T14:52:36.116093Z"
    }
   },
   "cell_type": "code",
   "source": [
    "from sklearn.neighbors import KernelDensity\n",
    "import matplotlib.pyplot as plt\n",
    "\n",
    "kd = KernelDensity(kernel=\"gaussian\", bandwidth=\"silverman\")\n"
   ],
   "id": "d583574038a9bfe3",
   "outputs": [],
   "execution_count": 7
  },
  {
   "metadata": {
    "ExecuteTime": {
     "end_time": "2024-06-02T14:54:51.242984Z",
     "start_time": "2024-06-02T14:54:50.916073Z"
    }
   },
   "cell_type": "code",
   "source": [
    "import numpy as np\n",
    "\n",
    "def normal_density(x, mu, sigma):\n",
    "    return 1/(sigma * np.sqrt(2 * np.pi)) * np.exp(-0.5 * ((x - mu)/sigma)**2)\n",
    "\n",
    "def compare_to_normal(index):\n",
    "    kd.fit(x[:, index].reshape(-1, 1))\n",
    "    x_data = np.linspace(-3, 3, 1000)\n",
    "    y_hat = np.exp(kd.score_samples(x_data.reshape(-1, 1)))\n",
    "    y_data = normal_density(x_data, 0, 1)\n",
    "    \n",
    "    return x_data, [y_hat, y_data]\n",
    "\n",
    "x1, (y1, y2) = compare_to_normal(100)\n",
    "plt.plot(x1, y1)\n",
    "plt.plot(x1, y2)\n",
    "plt.show()"
   ],
   "id": "4cbfabdec4c08c0",
   "outputs": [
    {
     "data": {
      "text/plain": [
       "<Figure size 640x480 with 1 Axes>"
      ],
      "image/png": "[encoded data removed]"
     },
     "metadata": {},
     "output_type": "display_data"
    }
   ],
   "execution_count": 8
  },
  {
   "metadata": {
    "ExecuteTime": {
     "end_time": "2024-06-02T15:08:13.871234Z",
     "start_time": "2024-06-02T15:08:11.908843Z"
    }
   },
   "cell_type": "code",
   "source": [
    "import wandb\n",
    "from project_config import config\n",
    "\n",
    "important_features = [0, 100, 101, 102, 103, 104, 105]\n",
    "selected_features = [102, 103, 105]\n",
    "\n",
    "x_multiline, ys_multiline = compare_to_normal(0)\n",
    "ys_multiline = ys_multiline[1:]\n",
    "keys = [\"standard normal distribution\"]\n",
    "\n",
    "for i in important_features:\n",
    "    _, (y_current, _) = compare_to_normal(i)\n",
    "    ys_multiline.append(y_current)\n",
    "    keys.append(f\"Feature {i+1}\")\n",
    "    \n",
    "colors = np.concatenate([((y == 1)*255).reshape(-1, 1), ((y == 0)*255).reshape(-1, 1), np.zeros((y.shape[0], 1))], axis=1)\n",
    "point_cloud = np.concatenate([x[:, selected_features], colors], axis=1)\n"
   ],
   "id": "5acc4726f12f7f2f",
   "outputs": [],
   "execution_count": 9
  },
  {
   "metadata": {
    "ExecuteTime": {
     "end_time": "2024-06-02T15:11:50.967078Z",
     "start_time": "2024-06-02T15:11:31.736978Z"
    }
   },
   "cell_type": "code",
   "source": [
    "with wandb.init(project=config.project, entity=config.entity, job_type=\"correlation\"):\n",
    "    wandb.log({\n",
    "        \"comparison_with_normal\": wandb.plot.line_series(\n",
    "            xs=x_multiline,\n",
    "            ys=ys_multiline,\n",
    "            keys=keys,\n",
    "            title=\"Comparison of densities with standard normal distribution\"\n",
    "        ),\n",
    "        \"feature_point_cloud\": wandb.Object3D(point_cloud, caption=\"103, 104, 105 features point cloud\"),\n",
    "    })"
   ],
   "id": "d2399d616f465ba0",
   "outputs": [
    {
     "name": "stderr",
     "output_type": "stream",
     "text": [
      "\u001B[34m\u001B[1mwandb\u001B[0m: Currently logged in as: \u001B[33msimonexc\u001B[0m (\u001B[33mdl-mini\u001B[0m). Use \u001B[1m`wandb login --relogin`\u001B[0m to force relogin\n"
     ]
    },
    {
     "data": {
      "text/plain": [
       "<IPython.core.display.HTML object>"
      ],
      "text/html": [
       "Tracking run with wandb version 0.17.0"
      ]
     },
     "metadata": {},
     "output_type": "display_data"
    },
    {
     "data": {
      "text/plain": [
       "<IPython.core.display.HTML object>"
      ],
      "text/html": [
       "Run data is saved locally in <code>/home/simonexc/Documents/GitHub/aml_project_2/src/notebooks/wandb/run-20240602_171133-2d8klwuf</code>"
      ]
     },
     "metadata": {},
     "output_type": "display_data"
    },
    {
     "data": {
      "text/plain": [
       "<IPython.core.display.HTML object>"
      ],
      "text/html": [
       "Syncing run <strong><a href='https://wandb.ai/dl-mini/AML_PROJECT_2/runs/2d8klwuf' target=\"_blank\">rosy-snowflake-2472</a></strong> to <a href='https://wandb.ai/dl-mini/AML_PROJECT_2' target=\"_blank\">Weights & Biases</a> (<a href='https://wandb.me/run' target=\"_blank\">docs</a>)<br/>"
      ]
     },
     "metadata": {},
     "output_type": "display_data"
    },
    {
     "data": {
      "text/plain": [
       "<IPython.core.display.HTML object>"
      ],
      "text/html": [
       " View project at <a href='https://wandb.ai/dl-mini/AML_PROJECT_2' target=\"_blank\">https://wandb.ai/dl-mini/AML_PROJECT_2</a>"
      ]
     },
     "metadata": {},
     "output_type": "display_data"
    },
    {
     "data": {
      "text/plain": [
       "<IPython.core.display.HTML object>"
      ],
      "text/html": [
       " View run at <a href='https://wandb.ai/dl-mini/AML_PROJECT_2/runs/2d8klwuf' target=\"_blank\">https://wandb.ai/dl-mini/AML_PROJECT_2/runs/2d8klwuf</a>"
      ]
     },
     "metadata": {},
     "output_type": "display_data"
    },
    {
     "data": {
      "text/plain": [
       "VBox(children=(Label(value='1.560 MB of 1.560 MB uploaded\\r'), FloatProgress(value=1.0, max=1.0)))"
      ],
      "application/vnd.jupyter.widget-view+json": {
       "version_major": 2,
       "version_minor": 0,
       "model_id": "ccbfeda0da7a445db347e779cbf4ce99"
      }
     },
     "metadata": {},
     "output_type": "display_data"
    },
    {
     "data": {
      "text/plain": [
       "<IPython.core.display.HTML object>"
      ],
      "text/html": [
       " View run <strong style=\"color:#cdcd00\">rosy-snowflake-2472</strong> at: <a href='https://wandb.ai/dl-mini/AML_PROJECT_2/runs/2d8klwuf' target=\"_blank\">https://wandb.ai/dl-mini/AML_PROJECT_2/runs/2d8klwuf</a><br/> View project at: <a href='https://wandb.ai/dl-mini/AML_PROJECT_2' target=\"_blank\">https://wandb.ai/dl-mini/AML_PROJECT_2</a><br/>Synced 5 W&B file(s), 2 media file(s), 3 artifact file(s) and 0 other file(s)"
      ]
     },
     "metadata": {},
     "output_type": "display_data"
    },
    {
     "data": {
      "text/plain": [
       "<IPython.core.display.HTML object>"
      ],
      "text/html": [
       "Find logs at: <code>./wandb/run-20240602_171133-2d8klwuf/logs</code>"
      ]
     },
     "metadata": {},
     "output_type": "display_data"
    }
   ],
   "execution_count": 11
  },
  {
   "metadata": {},
   "cell_type": "code",
   "outputs": [],
   "execution_count": null,
   "source": "",
   "id": "ec18d28b88806fe7"
  }
 ],
 "metadata": {
  "kernelspec": {
   "display_name": "Python 3",
   "language": "python",
   "name": "python3"
  },
  "language_info": {
   "codemirror_mode": {
    "name": "ipython",
    "version": 2
   },
   "file_extension": ".py",
   "mimetype": "text/x-python",
   "name": "python",
   "nbconvert_exporter": "python",
   "pygments_lexer": "ipython2",
   "version": "2.7.6"
  }
 },
 "nbformat": 4,
 "nbformat_minor": 5
}
