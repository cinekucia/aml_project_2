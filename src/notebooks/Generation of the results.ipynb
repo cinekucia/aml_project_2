{
 "cells": [
  {
   "cell_type": "code",
   "metadata": {
    "ExecuteTime": {
     "end_time": "2024-06-03T20:38:20.825017Z",
     "start_time": "2024-06-03T20:38:20.816715Z"
    }
   },
   "source": [
    "import sys\n",
    "sys.path.append(\"..\")\n"
   ],
   "outputs": [],
   "execution_count": 10
  },
  {
   "metadata": {
    "ExecuteTime": {
     "end_time": "2024-06-03T20:38:21.157091Z",
     "start_time": "2024-06-03T20:38:21.148046Z"
    }
   },
   "cell_type": "code",
   "source": [
    "from model_definitions import LDAPolynomial\n",
    "from dataset.utils import get_cached_data_with_test"
   ],
   "outputs": [],
   "execution_count": 11
  },
  {
   "metadata": {
    "ExecuteTime": {
     "end_time": "2024-06-03T20:38:21.582913Z",
     "start_time": "2024-06-03T20:38:21.558147Z"
    }
   },
   "cell_type": "code",
   "source": [
    "x_full, y, x_test_full = get_cached_data_with_test(\"../artifacts\")\n",
    "i = [101, 102, 103, 105]\n",
    "\n",
    "x_train = x_full[:, i]\n",
    "x_test = x_test_full[:, i]"
   ],
   "outputs": [],
   "execution_count": 12
  },
  {
   "cell_type": "code",
   "metadata": {
    "ExecuteTime": {
     "end_time": "2024-06-03T20:38:22.957753Z",
     "start_time": "2024-06-03T20:38:22.912236Z"
    }
   },
   "source": [
    "model = LDAPolynomial(degree=2, interactions_only=False)\n",
    "model.fit(x_train, y)\n",
    "\n",
    "predictions = model.predict(x_test)"
   ],
   "outputs": [],
   "execution_count": 13
  },
  {
   "metadata": {
    "ExecuteTime": {
     "end_time": "2024-06-03T20:38:23.687820Z",
     "start_time": "2024-06-03T20:38:23.683862Z"
    }
   },
   "cell_type": "code",
   "source": "predictions",
   "outputs": [
    {
     "data": {
      "text/plain": [
       "array([0.28379571, 0.52756396, 0.37819215, ..., 0.60255551, 0.32301818,\n",
       "       0.31528792])"
      ]
     },
     "execution_count": 14,
     "metadata": {},
     "output_type": "execute_result"
    }
   ],
   "execution_count": 14
  },
  {
   "cell_type": "code",
   "metadata": {
    "ExecuteTime": {
     "end_time": "2024-06-03T20:39:26.558673Z",
     "start_time": "2024-06-03T20:39:26.536907Z"
    }
   },
   "source": [
    "import pandas as pd\n",
    "import numpy as np\n",
    "# Select top 1000 indices\n",
    "top_indices = np.argsort(predictions)[-1000:]+1\n",
    "\n",
    "# Save the indices and features used\n",
    "student_id = \"335724\"  # replace with the actual student ID\n",
    "pd.DataFrame(top_indices).to_csv(f'{student_id}_obs.txt', index=False, header=False)\n",
    "pd.DataFrame({'FeatureIndex': np.array(i)+1}).to_csv(f'{student_id}_vars.txt', index=False, header=False)"
   ],
   "outputs": [],
   "execution_count": 16
  },
  {
   "metadata": {},
   "cell_type": "code",
   "outputs": [],
   "execution_count": null,
   "source": ""
  }
 ],
 "metadata": {
  "kernelspec": {
   "display_name": "base",
   "language": "python",
   "name": "python3"
  },
  "language_info": {
   "codemirror_mode": {
    "name": "ipython",
    "version": 3
   },
   "file_extension": ".py",
   "mimetype": "text/x-python",
   "name": "python",
   "nbconvert_exporter": "python",
   "pygments_lexer": "ipython3",
   "version": "3.11.7"
  }
 },
 "nbformat": 4,
 "nbformat_minor": 2
}
