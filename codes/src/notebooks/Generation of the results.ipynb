{
 "cells": [
  {
   "cell_type": "code",
   "execution_count": 61,
   "metadata": {
    "ExecuteTime": {
     "end_time": "2024-06-03T20:38:20.825017Z",
     "start_time": "2024-06-03T20:38:20.816715Z"
    }
   },
   "outputs": [],
   "source": [
    "import sys\n",
    "\n",
    "sys.path.append(\"..\")"
   ]
  },
  {
   "cell_type": "code",
   "execution_count": 62,
   "metadata": {
    "ExecuteTime": {
     "end_time": "2024-06-03T20:38:21.157091Z",
     "start_time": "2024-06-03T20:38:21.148046Z"
    }
   },
   "outputs": [],
   "source": [
    "from model_definitions import LDAPolynomial\n",
    "from dataset.utils import get_cached_data_with_test"
   ]
  },
  {
   "cell_type": "code",
   "execution_count": 63,
   "metadata": {
    "ExecuteTime": {
     "end_time": "2024-06-03T20:38:21.582913Z",
     "start_time": "2024-06-03T20:38:21.558147Z"
    }
   },
   "outputs": [],
   "source": [
    "x_full, y, x_test_full = get_cached_data_with_test(\"../artifacts\")\n",
    "i = [101, 102, 103, 105]\n",
    "\n",
    "x_train = x_full[:, i]\n",
    "x_test = x_test_full[:, i]"
   ]
  },
  {
   "cell_type": "code",
   "execution_count": 70,
   "metadata": {
    "ExecuteTime": {
     "end_time": "2024-06-03T20:38:22.957753Z",
     "start_time": "2024-06-03T20:38:22.912236Z"
    }
   },
   "outputs": [],
   "source": [
    "from abc import ABC, abstractmethod\n",
    "from sklearn.naive_bayes import GaussianNB\n",
    "import numpy as np\n",
    "\n",
    "from metrics import calculate_gain\n",
    "\n",
    "\n",
    "class BaseModel(ABC):\n",
    "    name: str\n",
    "\n",
    "    @abstractmethod\n",
    "    def __init__(self, *args, **kwargs):\n",
    "        pass\n",
    "\n",
    "    def preprocess_features(self, x: np.ndarray, is_train: bool) -> np.ndarray:\n",
    "        \"\"\"\n",
    "        Preprocess the features before fitting the model.\n",
    "        \"\"\"\n",
    "        return x\n",
    "\n",
    "    @abstractmethod\n",
    "    def _fit(self, x: np.ndarray, y: np.ndarray) -> None:\n",
    "        \"\"\"\n",
    "        Perform fit.\n",
    "        :param x: features - n x m array, where n is the number of samples\n",
    "        :param y: target - n element array\n",
    "        \"\"\"\n",
    "\n",
    "    def fit(self, x: np.ndarray, y: np.ndarray) -> None:\n",
    "        \"\"\"\n",
    "        Fit the model to the data.\n",
    "        :param x: features\n",
    "        :param y: target\n",
    "        \"\"\"\n",
    "        x_processed = self.preprocess_features(x, is_train=True)\n",
    "        self._fit(x_processed, y)\n",
    "\n",
    "    @abstractmethod\n",
    "    def _predict(self, x: np.ndarray) -> np.ndarray:\n",
    "        \"\"\"\n",
    "        Predict the target for the given features. Ensure target is a 1D array\n",
    "        representing probability of positive class for each sample.\n",
    "        :param x: features\n",
    "        :return: target\n",
    "        \"\"\"\n",
    "\n",
    "    def predict(self, x: np.ndarray) -> np.ndarray:\n",
    "        \"\"\"\n",
    "        Predict the target for the given features.\n",
    "        :param x: features\n",
    "        :return: target\n",
    "        \"\"\"\n",
    "        x_processed = self.preprocess_features(x, is_train=False)\n",
    "        return self._predict(x_processed)\n",
    "\n",
    "    def calculate_gain(self, x: np.ndarray, y: np.ndarray) -> float:\n",
    "        \"\"\"\n",
    "        Calculate the gain of the predictions compared to the ground truth on given\n",
    "        data.\n",
    "        :param x: features\n",
    "        :param y: target\n",
    "        :return: gain\n",
    "        \"\"\"\n",
    "        y_pred = self.predict(x)\n",
    "\n",
    "        return calculate_gain(y, y_pred, x.shape[1])\n",
    "\n",
    "\n",
    "class NaiveBayes(BaseModel):\n",
    "    name = \"NaiveBayes\"\n",
    "\n",
    "    def __init__(self, var_smoothing: float = 1e-9):\n",
    "        self.model = GaussianNB(var_smoothing=var_smoothing)\n",
    "\n",
    "    def _fit(self, x: np.ndarray, y: np.ndarray) -> None:\n",
    "        self.model.fit(x, y)\n",
    "\n",
    "    def _predict(self, x: np.ndarray) -> np.ndarray:\n",
    "        return self.model.predict_proba(x)[:, 1]\n",
    "\n",
    "\n",
    "model = NaiveBayes()\n",
    "model.fit(x_train, y)\n",
    "\n",
    "predictions = model.predict(x_test)"
   ]
  },
  {
   "cell_type": "code",
   "execution_count": 71,
   "metadata": {
    "ExecuteTime": {
     "end_time": "2024-06-03T20:38:23.687820Z",
     "start_time": "2024-06-03T20:38:23.683862Z"
    }
   },
   "outputs": [
    {
     "data": {
      "text/plain": [
       "array([0.30133582, 0.57438052, 0.398232  , ..., 0.61794736, 0.34423665,\n",
       "       0.34038532])"
      ]
     },
     "execution_count": 71,
     "metadata": {},
     "output_type": "execute_result"
    }
   ],
   "source": [
    "predictions"
   ]
  },
  {
   "cell_type": "code",
   "execution_count": 74,
   "metadata": {
    "ExecuteTime": {
     "end_time": "2024-06-03T20:39:26.558673Z",
     "start_time": "2024-06-03T20:39:26.536907Z"
    }
   },
   "outputs": [],
   "source": [
    "import pandas as pd\n",
    "import numpy as np\n",
    "\n",
    "# Select top 1000 indices\n",
    "top_indices = np.argsort(predictions)[-1000:] + 1\n",
    "\n",
    "# Save the indices and features used\n",
    "student_id = \"335724NB\"  # replace with the actual student ID\n",
    "pd.DataFrame(top_indices).to_csv(f\"{student_id}_obs.txt\", index=False, header=False)\n",
    "pd.DataFrame({\"FeatureIndex\": np.array(i) + 1}).to_csv(\n",
    "    f\"{student_id}_vars.txt\", index=False, header=False\n",
    ")"
   ]
  },
  {
   "cell_type": "code",
   "execution_count": 75,
   "metadata": {},
   "outputs": [
    {
     "name": "stdout",
     "output_type": "stream",
     "text": [
      "Number of common elements: 922\n"
     ]
    }
   ],
   "source": [
    "def count_common_elements(file1, file2):\n",
    "    # Read numbers from the first file and convert them to a set\n",
    "    with open(file1, \"r\") as f1:\n",
    "        numbers1 = set(f1.read().split())\n",
    "\n",
    "    # Read numbers from the second file and convert them to a set\n",
    "    with open(file2, \"r\") as f2:\n",
    "        numbers2 = set(f2.read().split())\n",
    "\n",
    "    # Find the intersection of both sets and return the count of common elements\n",
    "    common_elements = numbers1.intersection(numbers2)\n",
    "    return len(common_elements)\n",
    "\n",
    "\n",
    "file1 = \"335724_obs.txt\"\n",
    "file2 = \"335724SVM_obs.txt\"\n",
    "print(\"Number of common elements:\", count_common_elements(file1, file2))"
   ]
  },
  {
   "cell_type": "code",
   "execution_count": null,
   "metadata": {},
   "outputs": [],
   "source": []
  }
 ],
 "metadata": {
  "kernelspec": {
   "display_name": "base",
   "language": "python",
   "name": "python3"
  },
  "language_info": {
   "codemirror_mode": {
    "name": "ipython",
    "version": 3
   },
   "file_extension": ".py",
   "mimetype": "text/x-python",
   "name": "python",
   "nbconvert_exporter": "python",
   "pygments_lexer": "ipython3",
   "version": "3.11.7"
  }
 },
 "nbformat": 4,
 "nbformat_minor": 2
}
