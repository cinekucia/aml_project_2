{
 "cells": [
  {
   "cell_type": "code",
   "id": "initial_id",
   "metadata": {
    "collapsed": true,
    "ExecuteTime": {
     "end_time": "2024-05-23T18:58:04.979022Z",
     "start_time": "2024-05-23T18:58:04.764032Z"
    }
   },
   "source": [
    "import pandas as pd\n",
    "import numpy as np\n",
    "import os\n",
    "\n",
    "data_folder = \"../../../data\"\n",
    "\n",
    "x_train_path = os.path.join(data_folder, 'x_train.txt')\n",
    "y_train_path = os.path.join(data_folder, 'y_train.txt')\n",
    "x_test_path = os.path.join(data_folder, 'x_test.txt')"
   ],
   "outputs": [],
   "execution_count": 1
  },
  {
   "metadata": {
    "ExecuteTime": {
     "end_time": "2024-05-23T18:58:58.506293Z",
     "start_time": "2024-05-23T18:58:57.287374Z"
    }
   },
   "cell_type": "code",
   "source": [
    "x_train = pd.read_csv(x_train_path, header=None, sep=\"\\s+\")\n",
    "y_train = pd.read_csv(y_train_path, header=None, sep=\"\\s+\")\n",
    "x_test = pd.read_csv(x_test_path, header=None, sep=\"\\s+\")"
   ],
   "id": "87dbd6873eac5ddb",
   "outputs": [],
   "execution_count": 3
  },
  {
   "metadata": {
    "ExecuteTime": {
     "end_time": "2024-05-23T18:59:41.648878Z",
     "start_time": "2024-05-23T18:59:41.645590Z"
    }
   },
   "cell_type": "code",
   "source": "y_train.values.reshape(-1)",
   "id": "bd325608515a7f65",
   "outputs": [
    {
     "data": {
      "text/plain": [
       "array([0, 0, 1, ..., 0, 0, 0])"
      ]
     },
     "execution_count": 8,
     "metadata": {},
     "output_type": "execute_result"
    }
   ],
   "execution_count": 8
  },
  {
   "metadata": {
    "ExecuteTime": {
     "end_time": "2024-05-23T19:01:08.553621Z",
     "start_time": "2024-05-23T19:01:08.549812Z"
    }
   },
   "cell_type": "code",
   "source": "x_train.shape",
   "id": "1a8ad57c5c3f66ca",
   "outputs": [
    {
     "data": {
      "text/plain": [
       "(5000, 500)"
      ]
     },
     "execution_count": 9,
     "metadata": {},
     "output_type": "execute_result"
    }
   ],
   "execution_count": 9
  },
  {
   "metadata": {
    "ExecuteTime": {
     "end_time": "2024-05-23T19:01:12.634878Z",
     "start_time": "2024-05-23T19:01:12.629655Z"
    }
   },
   "cell_type": "code",
   "source": "x_test.shape",
   "id": "b76a19797283b9ac",
   "outputs": [
    {
     "data": {
      "text/plain": [
       "(5000, 500)"
      ]
     },
     "execution_count": 10,
     "metadata": {},
     "output_type": "execute_result"
    }
   ],
   "execution_count": 10
  },
  {
   "metadata": {},
   "cell_type": "code",
   "outputs": [],
   "execution_count": null,
   "source": "",
   "id": "f1574af28aad099"
  }
 ],
 "metadata": {
  "kernelspec": {
   "display_name": "Python 3",
   "language": "python",
   "name": "python3"
  },
  "language_info": {
   "codemirror_mode": {
    "name": "ipython",
    "version": 2
   },
   "file_extension": ".py",
   "mimetype": "text/x-python",
   "name": "python",
   "nbconvert_exporter": "python",
   "pygments_lexer": "ipython2",
   "version": "2.7.6"
  }
 },
 "nbformat": 4,
 "nbformat_minor": 5
}
