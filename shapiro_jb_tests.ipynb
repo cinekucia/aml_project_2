{
 "cells": [
  {
   "cell_type": "code",
   "execution_count": 1,
   "metadata": {},
   "outputs": [],
   "source": [
    "import pandas as pd\n",
    "import numpy as np\n",
    "from sklearn.ensemble import RandomForestClassifier\n",
    "from sklearn.feature_selection import SelectFromModel\n",
    "from sklearn.model_selection import cross_val_score\n",
    "import matplotlib.pyplot as plt\n",
    "\n",
    "# Load the data\n",
    "x_train = pd.read_csv(\"x_train.txt\", header=None, delim_whitespace=True)\n",
    "y_train = pd.read_csv(\"y_train.txt\", header=None, delim_whitespace=True)[0]\n",
    "x_test = pd.read_csv(\"x_test.txt\", header=None, delim_whitespace=True)"
   ]
  },
  {
   "cell_type": "code",
   "execution_count": null,
   "metadata": {},
   "outputs": [],
   "source": []
  },
  {
   "cell_type": "code",
   "execution_count": 16,
   "metadata": {},
   "outputs": [
    {
     "name": "stdout",
     "output_type": "stream",
     "text": [
      "Jarque-Bera Test Results\n",
      "   Variable  JB Statistic  JB P-Value\n",
      "0         0      2.561659    0.277807\n",
      "1         1      0.977533    0.613383\n",
      "2         2      4.504056    0.105186\n",
      "3         3      1.365886    0.505128\n",
      "4         4      0.159712    0.923249\n",
      "\n",
      "Shapiro-Wilk Test Results\n",
      "   Variable  Shapiro Statistic  Shapiro P-Value\n",
      "0         0           0.999594         0.400143\n",
      "1         1           0.999748         0.841449\n",
      "2         2           0.999528         0.259479\n",
      "3         3           0.999654         0.568069\n",
      "4         4           0.999638         0.521750\n",
      "Variable        190\n",
      "JB Statistic    190\n",
      "JB P-Value      190\n",
      "dtype: int64\n",
      "Variable             191\n",
      "Shapiro Statistic    191\n",
      "Shapiro P-Value      191\n",
      "dtype: int64\n",
      "Variable        190\n",
      "JB Statistic    190\n",
      "JB P-Value      190\n",
      "dtype: int64\n",
      "Variable             191\n",
      "Shapiro Statistic    191\n",
      "Shapiro P-Value      191\n",
      "dtype: int64\n"
     ]
    }
   ],
   "source": [
    "from scipy.stats import jarque_bera, shapiro\n",
    "\n",
    "jb_results = []\n",
    "shapiro_results = []\n",
    "for column in x_train.columns:\n",
    "    series = x_train[column]\n",
    "\n",
    "    # Perform Jarque-Bera test\n",
    "    jb_stat, jb_p_value = jarque_bera(series)\n",
    "    jb_results.append((column, jb_stat, jb_p_value))\n",
    "\n",
    "    # Perform Shapiro-Wilk test\n",
    "    shapiro_stat, shapiro_p_value = shapiro(series)\n",
    "    shapiro_results.append((column, shapiro_stat, shapiro_p_value))\n",
    "\n",
    "jb_df = pd.DataFrame(jb_results, columns=[\"Variable\", \"JB Statistic\", \"JB P-Value\"])\n",
    "shapiro_df = pd.DataFrame(\n",
    "    shapiro_results, columns=[\"Variable\", \"Shapiro Statistic\", \"Shapiro P-Value\"]\n",
    ")\n",
    "\n",
    "print(\"Jarque-Bera Test Results\")\n",
    "print(jb_df.head())\n",
    "\n",
    "print(\"\\nShapiro-Wilk Test Results\")\n",
    "print(shapiro_df.head())\n",
    "\n",
    "jb_p_value_above_05 = jb_df.where(jb_df[\"JB P-Value\"] > 0.05).count()\n",
    "print(jb_p_value_above_05)\n",
    "shapiro_p_value_above_05 = shapiro_df.where(\n",
    "    shapiro_df[\"Shapiro P-Value\"] > 0.05\n",
    ").count()\n",
    "print(shapiro_p_value_above_05)\n",
    "jb_df.to_csv(\"jarque_bera_results.csv\", index=False)\n",
    "shapiro_df.to_csv(\"shapiro_wilk_results.csv\", index=False)\n",
    "# _________________\n",
    "jb_p_value_above_05 = jb_df.where(jb_df[\"JB P-Value\"] > 0.05)[:200].count()\n",
    "\n",
    "print(jb_p_value_above_05)\n",
    "shapiro_p_value_above_05 = shapiro_df.where(shapiro_df[\"Shapiro P-Value\"] > 0.05)[\n",
    "    :200\n",
    "].count()\n",
    "print(shapiro_p_value_above_05)"
   ]
  },
  {
   "cell_type": "code",
   "execution_count": null,
   "metadata": {},
   "outputs": [],
   "source": []
  }
 ],
 "metadata": {
  "kernelspec": {
   "display_name": "Datascience",
   "language": "python",
   "name": "python3"
  },
  "language_info": {
   "codemirror_mode": {
    "name": "ipython",
    "version": 3
   },
   "file_extension": ".py",
   "mimetype": "text/x-python",
   "name": "python",
   "nbconvert_exporter": "python",
   "pygments_lexer": "ipython3",
   "version": "3.11.5"
  }
 },
 "nbformat": 4,
 "nbformat_minor": 2
}
